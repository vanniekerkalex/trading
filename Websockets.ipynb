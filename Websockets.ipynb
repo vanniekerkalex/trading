{
 "cells": [
  {
   "cell_type": "code",
   "execution_count": 29,
   "id": "d9794688-3311-449d-994e-da5725676e5e",
   "metadata": {},
   "outputs": [],
   "source": [
    "import os\n",
    "import websockets\n",
    "import json\n",
    "import pandas as pd\n",
    "import asyncio\n",
    "import ta"
   ]
  },
  {
   "cell_type": "code",
   "execution_count": 59,
   "id": "10b6eb9b-afa3-49d7-a3b7-da2b4a3621ba",
   "metadata": {},
   "outputs": [
    {
     "name": "stdout",
     "output_type": "stream",
     "text": [
      "Amount of BTCUSDT to buy: 0.00015723\n"
     ]
    }
   ],
   "source": [
    "# Initialise env variables\n",
    "API_KEY = os.environ.get('BINANCE_API_KEY')\n",
    "API_SECRET = os.environ.get('BINANCE_API_SECRET')\n",
    "\n",
    "# Init buy / sell vars\n",
    "CRYPTO = 'BTCUSDT'\n",
    "CRYPTO_PRICE = float(client.get_symbol_ticker(symbol=\"BTCUSDT\")['price'])\n",
    "BUY_QTY_USD = 10\n",
    "BUY_QTY_CRYPTO = round(BUY_QTY_USD / CRYPTO_PRICE, 8)\n",
    "print(f'Amount of {CRYPTO} to buy: {BUY_QTY_CRYPTO}')"
   ]
  },
  {
   "cell_type": "code",
   "execution_count": 5,
   "id": "3c46e255-7447-4be2-8a54-68db55177fae",
   "metadata": {},
   "outputs": [],
   "source": [
    "stream = websockets.connect('wss://stream.binance.com:9443/stream?streams=adausdt@miniTicker')"
   ]
  },
  {
   "cell_type": "code",
   "execution_count": 40,
   "id": "5497621d-b85c-49d9-8909-130e3f1a6300",
   "metadata": {},
   "outputs": [],
   "source": [
    "def pretty(obj):\n",
    "    print(json.dumps(obj, indent=2))"
   ]
  },
  {
   "cell_type": "code",
   "execution_count": 32,
   "id": "bb9f7670-80e3-46ed-afde-f48a75858bb7",
   "metadata": {},
   "outputs": [],
   "source": [
    "def createFrame(msg):\n",
    "    df = pd.DataFrame([msg])\n",
    "    df = df.loc[:,['s','E','c']]\n",
    "    df.columns = ['symbol', 'Time', 'Price']\n",
    "    df.Price = df.Price.astype(float)\n",
    "    df.Time = pd.to_datetime(df.Time, unit='ms')\n",
    "    return df"
   ]
  },
  {
   "cell_type": "code",
   "execution_count": null,
   "id": "a62a2fa7-e6e7-445b-8a41-713cd354058a",
   "metadata": {},
   "outputs": [],
   "source": [
    "df = pd.DataFrame()\n",
    "open_position = False\n",
    "\n",
    "async with stream as receiver:\n",
    "    while True:\n",
    "        data = await receiver.recv()\n",
    "        data = json.loads(data)['data']\n",
    "        df = df.append(createFrame(data))\n",
    "        \n",
    "        if len(df) > 30:\n",
    "            if not open_position:\n",
    "                if ta.momentum.roc(df.Price, 30).iloc[-1] > 0 and ta.momentum.roc(df.Price, 30).iloc[-2]:\n",
    "                    order= client.create_order(symbol = 'ADAUSDT', side = 'BUY', type = 'MARKET', quantity = 50)\n",
    "                    print(order)\n",
    "                    open_position = True\n",
    "                    buyPrice = float(order['fills'][0]['price'])\n",
    "            if open_position:\n",
    "                subdf = df[df.Time >= pd.to_datetime(order['transactTime'], unit='ms')]\n",
    "                if len(subdf) > 1:\n",
    "                    subdf['highest'] = subdf.Price.cummax()\n",
    "                    subdf['trailingstop'] = subdf['highest'] * 0.995\n",
    "                    if subdf.iloc[-1].Price < subdf.iloc[-1].trailingstop or df.iloc[-1].Price / float(order['fills'][0]['price'] > 1.002:\n",
    "                        order = client.create_order(symbol = 'ADAUSDT', side = 'SELL', type = 'MARKET', quantity = 50)\n",
    "                        print(order)\n",
    "                        sellPrice = float(order['fills'][0]['price'])\n",
    "                        print(f\"You made {(sellPrice - buyPrice)/buyPrice} profit.\")\n",
    "                        open_position = False\n",
    "        print(df.iloc[-1])"
   ]
  },
  {
   "cell_type": "code",
   "execution_count": 31,
   "id": "e434f282-26d3-4703-b4d9-9cf80e2912af",
   "metadata": {},
   "outputs": [],
   "source": [
    "from binance.client import Client\n",
    "\n",
    "client = Client(API_KEY, API_SECRET)"
   ]
  },
  {
   "cell_type": "code",
   "execution_count": null,
   "id": "9c82484e-1646-4208-a410-c9b67faec9c5",
   "metadata": {},
   "outputs": [],
   "source": [
    "pretty(client.get_symbol_info('BTCUSDT'))\n",
    "pretty(float(client.get_symbol_ticker(symbol=\"BTCUSDT\")['price']))\n",
    "# pretty(info)"
   ]
  },
  {
   "cell_type": "code",
   "execution_count": null,
   "id": "d029ac4e-3fbe-4854-bed3-837f869edcaa",
   "metadata": {},
   "outputs": [],
   "source": [
    "8, 6.5, 5, 3.5, 2, 0.5, 11."
   ]
  }
 ],
 "metadata": {
  "kernelspec": {
   "display_name": "Python 3 (ipykernel)",
   "language": "python",
   "name": "python3"
  },
  "language_info": {
   "codemirror_mode": {
    "name": "ipython",
    "version": 3
   },
   "file_extension": ".py",
   "mimetype": "text/x-python",
   "name": "python",
   "nbconvert_exporter": "python",
   "pygments_lexer": "ipython3",
   "version": "3.9.6"
  }
 },
 "nbformat": 4,
 "nbformat_minor": 5
}
