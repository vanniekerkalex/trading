{
 "cells": [
  {
   "cell_type": "code",
   "execution_count": 15,
   "id": "10b0e371-8674-4def-b2ad-78b14f6a96d3",
   "metadata": {},
   "outputs": [],
   "source": [
    "import os\n",
    "from dotenv import load_dotenv\n",
    "load_dotenv()\n",
    "import pandas as pd\n",
    "from binance.client import Client\n",
    "from binance import BinanceSocketManager"
   ]
  },
  {
   "cell_type": "code",
   "execution_count": 10,
   "id": "500f3dbc-c23e-44b5-a15b-9dc379d73bec",
   "metadata": {},
   "outputs": [],
   "source": [
    "# Initialise env variables\n",
    "api_key = os.environ.get('BINANCE_API_KEY')\n",
    "api_secret = os.environ.get('BINANCE_API_SECRET')"
   ]
  },
  {
   "cell_type": "code",
   "execution_count": 12,
   "id": "54bd5942-cda4-4b7b-befe-00f41ddf4cc3",
   "metadata": {},
   "outputs": [],
   "source": [
    "# Initialise client vars\n",
    "client = Client(api_key, api_secret)\n",
    "client.API_URL = os.environ.get('BINANCE_BASE_URL')\n",
    "bsm = BinanceSocketManager(client)\n",
    "socket = bsm.trade_socket('BTCUSDT')"
   ]
  },
  {
   "cell_type": "code",
   "execution_count": 22,
   "id": "73daa97c-b3a2-4e54-a3a4-6c77dd0198dc",
   "metadata": {},
   "outputs": [
    {
     "name": "stdout",
     "output_type": "stream",
     "text": [
      "{'e': 'trade', 'E': 1637001054872, 's': 'BTCUSDT', 't': 1145926119, 'p': '64035.46000000', 'q': '0.04857000', 'b': 8269423420, 'a': 8269423536, 'T': 1637001054871, 'm': True, 'M': True}\n"
     ]
    }
   ],
   "source": [
    "await socket.__aenter__()\n",
    "res = await socket.recv()\n",
    "print(res)"
   ]
  }
 ],
 "metadata": {
  "kernelspec": {
   "display_name": "Python 3 (ipykernel)",
   "language": "python",
   "name": "python3"
  },
  "language_info": {
   "codemirror_mode": {
    "name": "ipython",
    "version": 3
   },
   "file_extension": ".py",
   "mimetype": "text/x-python",
   "name": "python",
   "nbconvert_exporter": "python",
   "pygments_lexer": "ipython3",
   "version": "3.9.6"
  }
 },
 "nbformat": 4,
 "nbformat_minor": 5
}
