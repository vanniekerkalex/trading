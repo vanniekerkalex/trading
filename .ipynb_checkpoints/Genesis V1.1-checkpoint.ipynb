{
 "cells": [
  {
   "cell_type": "code",
   "execution_count": 51,
   "id": "f84b2956-af1a-4943-a921-9163a30ab6cf",
   "metadata": {},
   "outputs": [],
   "source": [
    "import os\n",
    "import websockets\n",
    "import json\n",
    "import pandas as pd\n",
    "import asyncio\n",
    "import ta\n",
    "import numpy as np\n",
    "from binance.client import Client\n",
    "import time\n",
    "from datetime import datetime, timedelta"
   ]
  },
  {
   "cell_type": "code",
   "execution_count": 52,
   "id": "37822e2a-d2a3-4fcd-89c8-9b207ffb148f",
   "metadata": {},
   "outputs": [],
   "source": [
    "# User Input\n",
    "COIN_NAME = 'SHIB'\n",
    "TRADE_SIZE_USD = 10\n",
    "GRADIENT = 5"
   ]
  },
  {
   "cell_type": "code",
   "execution_count": 53,
   "id": "64ad6c44-34a3-44e2-ad73-2cb8f77d7f9d",
   "metadata": {},
   "outputs": [
    {
     "name": "stdout",
     "output_type": "stream",
     "text": [
      "Price of SHIBUSDT: 4.333e-05 BUSD\n",
      "Amount of SHIBUSDT to buy: 230786.98361412 SHIB\n"
     ]
    }
   ],
   "source": [
    "# Initialise env variables\n",
    "API_KEY = os.environ.get('BINANCE_API_KEY')\n",
    "API_SECRET = os.environ.get('BINANCE_API_SECRET')\n",
    "\n",
    "# Initialise Binance Client\n",
    "client = Client(API_KEY, API_SECRET)\n",
    "\n",
    "# Init buy / sell vars\n",
    "COIN_PAIR = COIN_NAME + 'USDT'\n",
    "BUY_AMOUNT_USD = float(TRADE_SIZE_USD)\n",
    "\n",
    "# Init vars\n",
    "LONG_PAUSE = 30\n",
    "SHORT_PAUSE = 5\n",
    "\n",
    "# Init stop loss / take profit\n",
    "STOP_PROFIT = 1.005\n",
    "STOP_LOSS = 0.995\n",
    "\n",
    "# Set display for all rows\n",
    "pd.set_option('display.max_rows', None)\n",
    "\n",
    "COIN_PRICE = float(client.get_symbol_ticker(symbol=COIN_PAIR)['price'])\n",
    "print(f'Price of {COIN_PAIR}: {COIN_PRICE} {COIN_PAIR[3:-1]}')\n",
    "BUY_AMOUNT_COIN = round(BUY_AMOUNT_USD / COIN_PRICE, 8)\n",
    "print(f'Amount of {COIN_PAIR} to buy: {BUY_AMOUNT_COIN} {COIN_PAIR[0:-4]}')"
   ]
  },
  {
   "cell_type": "code",
   "execution_count": 54,
   "id": "3d3d7305-ddd0-43a2-9735-d58ffb0fa6bf",
   "metadata": {},
   "outputs": [],
   "source": [
    "def getMinuteData(symbol = COIN_PAIR, interval = '1m', minutes = '60'):\n",
    "    # startTime = datetime.utcnow() - timedelta(minutes=minutes)\n",
    "    # startTime = datetime.utcnow() - timedelta(minutes=60)\n",
    "    frame = pd.DataFrame(client.get_historical_klines(symbol, interval, minutes + ' min ago UTC'))\n",
    "    # frame = pd.DataFrame(client.get_historical_klines(symbol, interval, startTime))\n",
    "    frame = frame.iloc[:,:6]\n",
    "    frame.columns = ['Time', 'Open', 'High', 'Low', 'Close', 'Volume']\n",
    "    frame = frame.set_index('Time')\n",
    "    frame.index = pd.to_datetime(frame.index, unit = 'ms')\n",
    "    frame = frame.astype(float)\n",
    "    return frame"
   ]
  },
  {
   "cell_type": "code",
   "execution_count": 55,
   "id": "11623933-05a9-46e2-9034-a477506213a7",
   "metadata": {},
   "outputs": [],
   "source": [
    "df5 = getMinuteData(symbol = COIN_PAIR, interval = '5m', minutes = '540')\n",
    "# df1 = getMinuteData(symbol = COIN_PAIR, interval = '1m', minutes = '540')"
   ]
  },
  {
   "cell_type": "code",
   "execution_count": 56,
   "id": "dd895a3d-be7e-417d-879b-fdf441d987b6",
   "metadata": {
    "tags": []
   },
   "outputs": [],
   "source": [
    "def applyTechnicals(df, interval = 1):\n",
    "    df['%K'] = ta.momentum.stoch(df.High, df.Low, df.Close, window = 14, smooth_window = 3)\n",
    "    df['%D'] = df['%K'].rolling(3).mean()\n",
    "    df['RSI'] = ta.momentum.rsi(df.Close, window = 14)\n",
    "    gradientFactor = (GRADIENT) / interval\n",
    "    df['%K-M'] = (df['%K'] - df['%K'].shift(1))*gradientFactor\n",
    "    # df['MACD'] = ta.trend.macd(df.Close)\n",
    "    # df['MACD-D'] = ta.trend.macd_diff(df.Close)\n",
    "    # df['MACD-S'] = ta.trend.macd_signal(df.Close)\n",
    "    # gradientFactor = (GRADIENT) / interval\n",
    "    # df['SMA-5'] = ta.trend.sma_indicator(df.Close, window = 5)\n",
    "    # df['SMA-8'] = ta.trend.sma_indicator(df.Close, window = 8)\n",
    "    # df['SMA-13'] = ta.trend.sma_indicator(df.Close, window = 13)\n",
    "    # df['SMA-5-M'] = (df['SMA-5'] - df['SMA-5'].shift(1))*gradientFactor\n",
    "    # df['SMA-8-M'] = (df['SMA-8'] - df['SMA-8'].shift(1))*gradientFactor\n",
    "    # df['SMA-13-M'] = (df['SMA-13'] - df['SMA-13'].shift(1))*gradientFactor\n",
    "    # df.dropna(inplace = True)"
   ]
  },
  {
   "cell_type": "code",
   "execution_count": 57,
   "id": "d37f0938-db6e-401c-aef1-e13d4b41d303",
   "metadata": {
    "tags": []
   },
   "outputs": [],
   "source": [
    "# applyTechnicals(df1, 1)\n",
    "applyTechnicals(df5, 5)"
   ]
  },
  {
   "cell_type": "code",
   "execution_count": 58,
   "id": "e674fa19-3569-473a-9484-403ddabd98e6",
   "metadata": {},
   "outputs": [],
   "source": [
    "def strategy(open_position = False):\n",
    "    profitTrade = 0.0\n",
    "    profitTotal = 0.0\n",
    "    buyPrice = 0.0\n",
    "    sellPrice = 0.0\n",
    "    stopLoss = 0.0\n",
    "    \n",
    "    while True:\n",
    "        print(\"Waiting for BUY signal...\")\n",
    "        currentPrice = float(client.get_symbol_ticker(symbol=COIN_PAIR)['price'])\n",
    "        df5 = getMinuteData(symbol = COIN_PAIR, interval = '5m', minutes = '540')\n",
    "        applyTechnicals(df5, 5)\n",
    "        \n",
    "        # Look for trigger on 5 min chart to buy\n",
    "        if df5['%K-M'][-1] > 0 and df5['%K'][-1] < 10:\n",
    "            \n",
    "            if not open_position:\n",
    "                # Buy Signal\n",
    "                open_position = True\n",
    "                buyPrice = currentPrice\n",
    "                print(f\"BUY @ {df5.index[-1]} - {buyPrice}\")\n",
    "            \n",
    "            if open_position:\n",
    "                print(\"Waiting for SELL signal...\")\n",
    "                currentPrice = float(client.get_symbol_ticker(symbol=COIN_PAIR)['price'])\n",
    "                trailStop = currentPrice * STOP_LOSS\n",
    "                while True:\n",
    "                    \n",
    "                    currentPrice = float(client.get_symbol_ticker(symbol=COIN_PAIR)['price'])\n",
    "                    priceDelta = (currentPrice - buyPrice)/buyPrice\n",
    "                    \n",
    "                    if df5['%K-M'][-1] < 0 and df5['%K'][-1] > 90 and priceDelta > STOP_PROFIT or currentPrice < trailStop:\n",
    "                        # Sell Signal\n",
    "                        open_position = False\n",
    "                        sellPrice = currentPrice\n",
    "                        profitTrade =  sellPrice - buyPrice\n",
    "                        profitTotal += profitTrade\n",
    "                        print(f\"SELL @ {df5.index[-1]} - {sellPrice}\")\n",
    "                        print(\"--------\")\n",
    "                        print(f\"Profit Trade: {profitTrade}\")\n",
    "                        print(f\"Profit Total: {profitTotal}\")\n",
    "                        print(\"--------\")\n",
    "                        break\n",
    "                    \n",
    "                    df5 = getMinuteData(symbol = COIN_PAIR, interval = '5m', minutes = '360')\n",
    "                    applyTechnicals(df5, 5)\n",
    "                    time.sleep(LONG_PAUSE)\n",
    "        \n",
    "        time.sleep(LONG_PAUSE)"
   ]
  },
  {
   "cell_type": "code",
   "execution_count": 59,
   "id": "3b01f1b1-7a1e-4205-86ca-139344a81571",
   "metadata": {},
   "outputs": [
    {
     "name": "stdout",
     "output_type": "stream",
     "text": [
      "Waiting for BUY signal...\n",
      "Waiting for BUY signal...\n",
      "Waiting for BUY signal...\n",
      "Waiting for BUY signal...\n",
      "Waiting for BUY signal...\n",
      "Waiting for BUY signal...\n",
      "Waiting for BUY signal...\n",
      "Waiting for BUY signal...\n",
      "Waiting for BUY signal...\n",
      "Waiting for BUY signal...\n",
      "Waiting for BUY signal...\n",
      "Waiting for BUY signal...\n"
     ]
    },
    {
     "ename": "KeyboardInterrupt",
     "evalue": "",
     "output_type": "error",
     "traceback": [
      "\u001b[0;31m---------------------------------------------------------------------------\u001b[0m",
      "\u001b[0;31mKeyboardInterrupt\u001b[0m                         Traceback (most recent call last)",
      "\u001b[0;32m/var/folders/b6/kw3r_5yn7lg6kh6gmbtbpsq80000gn/T/ipykernel_33186/3589471303.py\u001b[0m in \u001b[0;36m<module>\u001b[0;34m\u001b[0m\n\u001b[0;32m----> 1\u001b[0;31m \u001b[0mstrategy\u001b[0m\u001b[0;34m(\u001b[0m\u001b[0;34m)\u001b[0m\u001b[0;34m\u001b[0m\u001b[0;34m\u001b[0m\u001b[0m\n\u001b[0m",
      "\u001b[0;32m/var/folders/b6/kw3r_5yn7lg6kh6gmbtbpsq80000gn/T/ipykernel_33186/2046397667.py\u001b[0m in \u001b[0;36mstrategy\u001b[0;34m(open_position)\u001b[0m\n\u001b[1;32m     47\u001b[0m                     \u001b[0mtime\u001b[0m\u001b[0;34m.\u001b[0m\u001b[0msleep\u001b[0m\u001b[0;34m(\u001b[0m\u001b[0mLONG_PAUSE\u001b[0m\u001b[0;34m)\u001b[0m\u001b[0;34m\u001b[0m\u001b[0;34m\u001b[0m\u001b[0m\n\u001b[1;32m     48\u001b[0m \u001b[0;34m\u001b[0m\u001b[0m\n\u001b[0;32m---> 49\u001b[0;31m         \u001b[0mtime\u001b[0m\u001b[0;34m.\u001b[0m\u001b[0msleep\u001b[0m\u001b[0;34m(\u001b[0m\u001b[0mLONG_PAUSE\u001b[0m\u001b[0;34m)\u001b[0m\u001b[0;34m\u001b[0m\u001b[0;34m\u001b[0m\u001b[0m\n\u001b[0m",
      "\u001b[0;31mKeyboardInterrupt\u001b[0m: "
     ]
    }
   ],
   "source": [
    "strategy()"
   ]
  }
 ],
 "metadata": {
  "kernelspec": {
   "display_name": "Python 3 (ipykernel)",
   "language": "python",
   "name": "python3"
  },
  "language_info": {
   "codemirror_mode": {
    "name": "ipython",
    "version": 3
   },
   "file_extension": ".py",
   "mimetype": "text/x-python",
   "name": "python",
   "nbconvert_exporter": "python",
   "pygments_lexer": "ipython3",
   "version": "3.9.6"
  }
 },
 "nbformat": 4,
 "nbformat_minor": 5
}
