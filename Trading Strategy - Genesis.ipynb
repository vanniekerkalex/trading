{
 "cells": [
  {
   "cell_type": "code",
   "execution_count": 1,
   "id": "16ac84c7-c5ad-41bc-b45d-2dc4bb55a0d8",
   "metadata": {},
   "outputs": [],
   "source": [
    "import os\n",
    "import websockets\n",
    "import json\n",
    "import pandas as pd\n",
    "import asyncio\n",
    "import ta\n",
    "import numpy as np\n",
    "from binance.client import Client\n",
    "import time"
   ]
  },
  {
   "cell_type": "code",
   "execution_count": 2,
   "id": "10b6eb9b-afa3-49d7-a3b7-da2b4a3621ba",
   "metadata": {},
   "outputs": [
    {
     "name": "stdout",
     "output_type": "stream",
     "text": [
      "Price of SHIBUSDT: 4.55e-05 BUSD\n",
      "Amount of SHIBUSDT to buy: 219780.21978022 SHIB\n"
     ]
    }
   ],
   "source": [
    "# Initialise env variables\n",
    "API_KEY = os.environ.get('BINANCE_API_KEY')\n",
    "API_SECRET = os.environ.get('BINANCE_API_SECRET')\n",
    "\n",
    "# Initialise Binance Client\n",
    "client = Client(API_KEY, API_SECRET)\n",
    "\n",
    "# Init buy / sell vars\n",
    "COIN_NAME = 'SHIBUSDT'\n",
    "BUY_AMOUNT_USD = float(10)\n",
    "\n",
    "# Init stop loss / take profit\n",
    "STOP_PROFIT = 1.005\n",
    "STOP_LOSS = 0.995\n",
    "\n",
    "COIN_PRICE = float(client.get_symbol_ticker(symbol=COIN_NAME)['price'])\n",
    "print(f'Price of {COIN_NAME}: {COIN_PRICE} {COIN_NAME[3:-1]}')\n",
    "BUY_AMOUNT_COIN = round(BUY_AMOUNT_USD / COIN_PRICE, 8)\n",
    "print(f'Amount of {COIN_NAME} to buy: {BUY_AMOUNT_COIN} {COIN_NAME[0:-4]}')"
   ]
  },
  {
   "cell_type": "code",
   "execution_count": 3,
   "id": "c3bca74e-77c4-4e48-9e2d-b8609e21ebd6",
   "metadata": {},
   "outputs": [],
   "source": [
    "def getMinuteData(symbol = COIN_NAME, interval = '1m', minutes = '60'):\n",
    "    frame = pd.DataFrame(client.get_historical_klines(symbol, interval, minutes + ' min ago UTC'))\n",
    "    frame = frame.iloc[:,:6]\n",
    "    frame.columns = ['Time', 'Open', 'High', 'Low', 'Close', 'Volume']\n",
    "    frame = frame.set_index('Time')\n",
    "    frame.index = pd.to_datetime(frame.index, unit = 'ms')\n",
    "    frame = frame.astype(float)\n",
    "    return frame"
   ]
  },
  {
   "cell_type": "code",
   "execution_count": 4,
   "id": "7c883398-6bff-49e0-9596-f490333e7dd1",
   "metadata": {},
   "outputs": [],
   "source": [
    "df = getMinuteData()"
   ]
  },
  {
   "cell_type": "code",
   "execution_count": 5,
   "id": "0d1bbbe4-026f-4b35-af23-3a6b5df2e69d",
   "metadata": {},
   "outputs": [],
   "source": [
    "def applyTechnicals(df):\n",
    "    df['%K'] = ta.momentum.stoch(df.High, df.Low, df.Close, window = 14, smooth_window = 3)\n",
    "    df['%D'] = df['%K'].rolling(3).mean()\n",
    "    df['RSI'] = ta.momentum.rsi(df.Close, window = 14)\n",
    "    df['MACD'] = ta.trend.macd_diff(df.Close)\n",
    "    df.dropna(inplace = True)"
   ]
  },
  {
   "cell_type": "code",
   "execution_count": 6,
   "id": "979c8d8e-ef54-45a5-8e12-1a3e21af80d5",
   "metadata": {},
   "outputs": [],
   "source": [
    "applyTechnicals(df)"
   ]
  },
  {
   "cell_type": "code",
   "execution_count": 7,
   "id": "d590bcae-9400-46e0-96cf-ba1a1fe96b9e",
   "metadata": {},
   "outputs": [],
   "source": [
    "class Signals:\n",
    "    \n",
    "    def __init__(self, df, lags):\n",
    "        self.df = df\n",
    "        self.lags = lags\n",
    "        \n",
    "    def getTrigger(self):\n",
    "        dfx = pd.DataFrame()\n",
    "        for i in range(self.lags + 1):\n",
    "            mask = (self.df['%K'].shift(i) < 20) & (self.df['%D'].shift(i) < 20)\n",
    "            dfx = dfx.append(mask, ignore_index = True)\n",
    "        return dfx.sum(axis = 0)\n",
    "    \n",
    "    def decide(self):\n",
    "        self.df['trigger'] = np.where(self.getTrigger(), 1, 0)\n",
    "        self.df['Buy'] = np.where((self.df.trigger) & (self.df['%K'].between(20,80)) & \n",
    "                                  (self.df['%D'].between(20,80)) & (self.df.RSI > 50) & \n",
    "                                  (self.df.MACD > 0), 1, 0)"
   ]
  },
  {
   "cell_type": "code",
   "execution_count": 8,
   "id": "1dfb9cb9-9dd3-45d7-9779-d8a8fa969cbe",
   "metadata": {},
   "outputs": [],
   "source": [
    "inst = Signals(df, 10)"
   ]
  },
  {
   "cell_type": "code",
   "execution_count": 9,
   "id": "37e5c29b-3bca-4fc6-a193-1b3046bf286b",
   "metadata": {},
   "outputs": [],
   "source": [
    "inst.decide()"
   ]
  },
  {
   "cell_type": "code",
   "execution_count": 51,
   "id": "2c1d7640-ab63-4ae5-82e5-1d4eee61bb9a",
   "metadata": {},
   "outputs": [
    {
     "data": {
      "text/html": [
       "<div>\n",
       "<style scoped>\n",
       "    .dataframe tbody tr th:only-of-type {\n",
       "        vertical-align: middle;\n",
       "    }\n",
       "\n",
       "    .dataframe tbody tr th {\n",
       "        vertical-align: top;\n",
       "    }\n",
       "\n",
       "    .dataframe thead th {\n",
       "        text-align: right;\n",
       "    }\n",
       "</style>\n",
       "<table border=\"1\" class=\"dataframe\">\n",
       "  <thead>\n",
       "    <tr style=\"text-align: right;\">\n",
       "      <th></th>\n",
       "      <th>Open</th>\n",
       "      <th>High</th>\n",
       "      <th>Low</th>\n",
       "      <th>Close</th>\n",
       "      <th>Volume</th>\n",
       "      <th>%K</th>\n",
       "      <th>%D</th>\n",
       "      <th>RSI</th>\n",
       "      <th>MACD</th>\n",
       "      <th>trigger</th>\n",
       "      <th>Buy</th>\n",
       "    </tr>\n",
       "    <tr>\n",
       "      <th>Time</th>\n",
       "      <th></th>\n",
       "      <th></th>\n",
       "      <th></th>\n",
       "      <th></th>\n",
       "      <th></th>\n",
       "      <th></th>\n",
       "      <th></th>\n",
       "      <th></th>\n",
       "      <th></th>\n",
       "      <th></th>\n",
       "      <th></th>\n",
       "    </tr>\n",
       "  </thead>\n",
       "  <tbody>\n",
       "  </tbody>\n",
       "</table>\n",
       "</div>"
      ],
      "text/plain": [
       "Empty DataFrame\n",
       "Columns: [Open, High, Low, Close, Volume, %K, %D, RSI, MACD, trigger, Buy]\n",
       "Index: []"
      ]
     },
     "execution_count": 51,
     "metadata": {},
     "output_type": "execute_result"
    }
   ],
   "source": [
    "df[df.Buy == 1]"
   ]
  },
  {
   "cell_type": "code",
   "execution_count": 10,
   "id": "1f43785b-2f8d-4e2b-9cb2-c3bbbb99b8d0",
   "metadata": {},
   "outputs": [],
   "source": [
    "def strategy(coin, qty, open_position = False):\n",
    "    # Testing\n",
    "    profit = 0.0\n",
    "    buy_price = 0.0\n",
    "    \n",
    "    df = getMinuteData(coin, '1m', '100')\n",
    "    applyTechnicals(df)\n",
    "    inst = Signals(df, 5)\n",
    "    inst.decide()\n",
    "    # print(f'Current Close: ' + str(df.Close.iloc[-1]))\n",
    "\n",
    "    # Look to buy\n",
    "    if df.Buy.iloc[-1]:\n",
    "        #order = client.create_order(symbol = coin, side = 'BUY', type = 'MARKET', quantity = qty)\n",
    "        #print(order)\n",
    "        #buyPrice = float(order['fills'][0]['price'])\n",
    "        open_position = True\n",
    "        \n",
    "        # Testing\n",
    "        buy_price = df.Close.iloc[-1]\n",
    "        print(f'Pretending to BUY @ {buy_price}')\n",
    "    \n",
    "    while open_position:\n",
    "        time.sleep(0.5)\n",
    "        df = getMinuteData(coin, '1m', '2')\n",
    "        #print('-------')\n",
    "        # print(f'Current Close: ' + str(df.Close.iloc[-1]) + str(df.Close[-1]))\n",
    "        # print(f'Stop_Profit: ' + str(buy_price * STOP_PROFIT))\n",
    "        # print(f'Stop_Loss: ' + str(buy_price * STOP_LOSS))\n",
    "        # print('-------')\n",
    "        \n",
    "        # Check to exit trade \n",
    "        if df.Close[-1] <= buy_price * STOP_LOSS or df.Close[-1] >= buy_price * STOP_PROFIT:\n",
    "            #order = client.create_order(symbol = coin, side = 'SELL', type = 'MARKET', quantity = qty)\n",
    "            #print(order)\n",
    "            \n",
    "            # Testing\n",
    "            profit = df.Close[-1] - buy_price\n",
    "            print(f'Pretending to SELL @ {df.Close[-1]}')\n",
    "            \n",
    "            break\n",
    "    return profit"
   ]
  },
  {
   "cell_type": "code",
   "execution_count": null,
   "id": "b48e3dfd-7f42-4090-9d8e-878f32179aa5",
   "metadata": {},
   "outputs": [],
   "source": [
    "total = 0.0\n",
    "tradeNum = 1\n",
    "print('Trading...')\n",
    "while True:\n",
    "    tradeProfit = float(strategy('ADAUSDT', 10))\n",
    "    total = total + tradeProfit\n",
    "    \n",
    "    if tradeProfit != 0:\n",
    "        print(f'Profit for trade #{tradeNum} = {tradeProfit}')\n",
    "        print(f'Total Profit: {total}')\n",
    "        print('--------------------')\n",
    "        tradeNum += 1\n",
    "    \n",
    "    time.sleep(0.5)"
   ]
  }
 ],
 "metadata": {
  "kernelspec": {
   "display_name": "Python 3 (ipykernel)",
   "language": "python",
   "name": "python3"
  },
  "language_info": {
   "codemirror_mode": {
    "name": "ipython",
    "version": 3
   },
   "file_extension": ".py",
   "mimetype": "text/x-python",
   "name": "python",
   "nbconvert_exporter": "python",
   "pygments_lexer": "ipython3",
   "version": "3.9.6"
  }
 },
 "nbformat": 4,
 "nbformat_minor": 5
}
